{
 "cells": [
  {
   "cell_type": "code",
   "execution_count": null,
   "id": "aca5afef",
   "metadata": {},
   "outputs": [],
   "source": [
    "import numpy as np\n",
    "\n",
    "def easy_nn(X):\n",
    "    N, D = X.shape\n",
    "    neighbors = np.zeros(N, dtype=int)\n",
    "    for i in range(N):\n",
    "        j_closest = i\n",
    "        d_closest = np.inf         #intiialize closest distance to infinity\n",
    "        for j in range(N):\n",
    "            if i == j:\n",
    "                continue           #skip distance between a point and itself\n",
    "            d = np.sqrt(np.sum((X[i] - X[j]) ** 2))      #distance must be summed over each X vector of D components\n",
    "            if d < d_closest:\n",
    "                j_closest = j      #since d was closer this is the new closest  X vector\n",
    "                d_closest = d      #closest distance is updated\n",
    "        neighbors[i] = j_closest   #each X vector is assigned its closest vector after iterating through all other vectors\n",
    "    return neighbors               #return each vectors nearest neighbor"
   ]
  }
 ],
 "metadata": {
  "kernelspec": {
   "display_name": "Python 3",
   "language": "python",
   "name": "python3"
  },
  "language_info": {
   "codemirror_mode": {
    "name": "ipython",
    "version": 3
   },
   "file_extension": ".py",
   "mimetype": "text/x-python",
   "name": "python",
   "nbconvert_exporter": "python",
   "pygments_lexer": "ipython3",
   "version": "3.8.8"
  }
 },
 "nbformat": 4,
 "nbformat_minor": 5
}
