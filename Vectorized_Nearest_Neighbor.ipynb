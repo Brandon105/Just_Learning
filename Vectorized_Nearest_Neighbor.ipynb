{
 "cells": [
  {
   "cell_type": "code",
   "execution_count": null,
   "id": "f3703ecb",
   "metadata": {},
   "outputs": [],
   "source": [
    "import numpy as np\n",
    "\n",
    "def vectorized_nn(X):\n",
    "    XXT = np.dot(X, X.T)\n",
    "    Xii = XXT.diagonal()\n",
    "    \n",
    "    D = np.sqrt(Xii - 2*XXT + Xii[:, np.newaxis])\n",
    "        # numpy.argsort returns sorted indices along a given axis\n",
    "        # we'll take the second column (index 1) because the\n",
    "        # first column corresponds to the distance between each\n",
    "        # point and itself.\n",
    "    return np.argsort(D, axis=1)[:, 1]"
   ]
  }
 ],
 "metadata": {
  "kernelspec": {
   "display_name": "Python 3",
   "language": "python",
   "name": "python3"
  },
  "language_info": {
   "codemirror_mode": {
    "name": "ipython",
    "version": 3
   },
   "file_extension": ".py",
   "mimetype": "text/x-python",
   "name": "python",
   "nbconvert_exporter": "python",
   "pygments_lexer": "ipython3",
   "version": "3.8.8"
  }
 },
 "nbformat": 4,
 "nbformat_minor": 5
}
