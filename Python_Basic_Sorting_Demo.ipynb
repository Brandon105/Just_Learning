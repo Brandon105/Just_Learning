{
 "cells": [
  {
   "cell_type": "code",
   "execution_count": 31,
   "id": "536961fc",
   "metadata": {},
   "outputs": [],
   "source": [
    "import numpy as np\n",
    "np.random.seed(0)\n",
    "X = np.random.rand(10000000)"
   ]
  },
  {
   "cell_type": "code",
   "execution_count": 32,
   "id": "4a5b11f8",
   "metadata": {},
   "outputs": [
    {
     "name": "stdout",
     "output_type": "stream",
     "text": [
      "CPU times: user 766 ms, sys: 0 ns, total: 766 ms\n",
      "Wall time: 766 ms\n"
     ]
    }
   ],
   "source": [
    "%time X.sort()"
   ]
  },
  {
   "cell_type": "code",
   "execution_count": 33,
   "id": "6f9b1e67",
   "metadata": {},
   "outputs": [
    {
     "name": "stdout",
     "output_type": "stream",
     "text": [
      "[2.52e-08 1.64e-07 1.89e-07 ... 1.00e+00 1.00e+00 1.00e+00]\n"
     ]
    }
   ],
   "source": [
    "print(X)"
   ]
  },
  {
   "cell_type": "code",
   "execution_count": 34,
   "id": "c2c681a8",
   "metadata": {},
   "outputs": [
    {
     "name": "stdout",
     "output_type": "stream",
     "text": [
      "936 ns ± 2.25 ns per loop (mean ± std. dev. of 7 runs, 1000000 loops each)\n"
     ]
    }
   ],
   "source": [
    "%timeit np.searchsorted(X,0.5)"
   ]
  },
  {
   "cell_type": "code",
   "execution_count": 35,
   "id": "86706108",
   "metadata": {},
   "outputs": [],
   "source": [
    "Y = np.random.random((4,5))"
   ]
  },
  {
   "cell_type": "code",
   "execution_count": 36,
   "id": "4db4f84d",
   "metadata": {},
   "outputs": [],
   "source": [
    "np.set_printoptions(precision = 2)"
   ]
  },
  {
   "cell_type": "code",
   "execution_count": 37,
   "id": "bfc32d15",
   "metadata": {},
   "outputs": [
    {
     "name": "stdout",
     "output_type": "stream",
     "text": [
      "[[0.96 0.92 1.   0.71 0.22]\n",
      " [0.63 0.34 0.82 0.97 0.33]\n",
      " [0.98 0.44 0.95 0.33 0.73]\n",
      " [0.04 0.16 0.96 0.87 0.88]]\n"
     ]
    }
   ],
   "source": [
    "print(Y)"
   ]
  },
  {
   "cell_type": "code",
   "execution_count": 38,
   "id": "a416fb72",
   "metadata": {},
   "outputs": [],
   "source": [
    "i_sort = np.argsort(Y[:,0])"
   ]
  },
  {
   "cell_type": "code",
   "execution_count": 39,
   "id": "505d1c9a",
   "metadata": {},
   "outputs": [
    {
     "name": "stdout",
     "output_type": "stream",
     "text": [
      "[[0.04 0.16 0.96 0.87 0.88]\n",
      " [0.63 0.34 0.82 0.97 0.33]\n",
      " [0.96 0.92 1.   0.71 0.22]\n",
      " [0.98 0.44 0.95 0.33 0.73]]\n"
     ]
    }
   ],
   "source": [
    "print(Y[i_sort])  \n",
    "#sorts the first column and swaps the positions of the numbers for each column after that corresponding to the first sort"
   ]
  },
  {
   "cell_type": "code",
   "execution_count": 40,
   "id": "a144757e",
   "metadata": {},
   "outputs": [
    {
     "name": "stdout",
     "output_type": "stream",
     "text": [
      "[[0.04 0.16 0.82 0.33 0.22]\n",
      " [0.63 0.34 0.95 0.71 0.33]\n",
      " [0.96 0.44 0.96 0.87 0.73]\n",
      " [0.98 0.92 1.   0.97 0.88]]\n"
     ]
    }
   ],
   "source": [
    "Y.sort(0)\n",
    "print(Y)\n",
    "#Every column has now been sorted but the values in each row are no longer associated\n",
    "    #this can lead to meaningless data and must be taken into account\n",
    "        #if Y represents an array of observations for example"
   ]
  }
 ],
 "metadata": {
  "kernelspec": {
   "display_name": "Python 3",
   "language": "python",
   "name": "python3"
  },
  "language_info": {
   "codemirror_mode": {
    "name": "ipython",
    "version": 3
   },
   "file_extension": ".py",
   "mimetype": "text/x-python",
   "name": "python",
   "nbconvert_exporter": "python",
   "pygments_lexer": "ipython3",
   "version": "3.8.8"
  }
 },
 "nbformat": 4,
 "nbformat_minor": 5
}
