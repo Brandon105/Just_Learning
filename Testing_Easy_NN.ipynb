{
 "cells": [
  {
   "cell_type": "code",
   "execution_count": 18,
   "id": "2bb951fd",
   "metadata": {},
   "outputs": [],
   "source": [
    "import numpy as np"
   ]
  },
  {
   "cell_type": "code",
   "execution_count": 19,
   "id": "cb35eb12",
   "metadata": {},
   "outputs": [],
   "source": [
    "np.random.seed(0)"
   ]
  },
  {
   "cell_type": "code",
   "execution_count": 20,
   "id": "bb36b37f",
   "metadata": {},
   "outputs": [],
   "source": [
    "from ipynb.fs.defs.Easy_NN_Example import easy_nn"
   ]
  },
  {
   "cell_type": "code",
   "execution_count": 21,
   "id": "140be935",
   "metadata": {},
   "outputs": [],
   "source": [
    "X = np.random.random((10,3))   #creates 10 points in 3 dimensions"
   ]
  },
  {
   "cell_type": "code",
   "execution_count": 22,
   "id": "e958486c",
   "metadata": {},
   "outputs": [
    {
     "data": {
      "text/plain": [
       "array([3, 7, 6, 0, 3, 1, 2, 1, 3, 7])"
      ]
     },
     "execution_count": 22,
     "metadata": {},
     "output_type": "execute_result"
    }
   ],
   "source": [
    "easy_nn(X)"
   ]
  },
  {
   "cell_type": "code",
   "execution_count": 24,
   "id": "88517eb2",
   "metadata": {},
   "outputs": [],
   "source": [
    "Y = np.random.random((1000,3))"
   ]
  },
  {
   "cell_type": "code",
   "execution_count": 25,
   "id": "a00cf501",
   "metadata": {},
   "outputs": [
    {
     "name": "stdout",
     "output_type": "stream",
     "text": [
      "4.16 s ± 6.65 ms per loop (mean ± std. dev. of 7 runs, 1 loop each)\n"
     ]
    }
   ],
   "source": [
    "#%timeit easy_nn(Y)    #Very slow O(N**2) with large number of points"
   ]
  },
  {
   "cell_type": "code",
   "execution_count": 29,
   "id": "2804d1be",
   "metadata": {},
   "outputs": [],
   "source": [
    "from ipynb.fs.full.Vectorized_Nearest_Neighbor import vectorized_nn"
   ]
  },
  {
   "cell_type": "code",
   "execution_count": 31,
   "id": "cb53175e",
   "metadata": {},
   "outputs": [
    {
     "data": {
      "text/plain": [
       "array([3, 7, 6, 0, 3, 1, 2, 1, 3, 7])"
      ]
     },
     "execution_count": 31,
     "metadata": {},
     "output_type": "execute_result"
    }
   ],
   "source": [
    "vectorized_nn(X)"
   ]
  },
  {
   "cell_type": "code",
   "execution_count": 32,
   "id": "8a3f978f",
   "metadata": {},
   "outputs": [
    {
     "name": "stdout",
     "output_type": "stream",
     "text": [
      "47.2 ms ± 1.58 ms per loop (mean ± std. dev. of 7 runs, 10 loops each)\n"
     ]
    }
   ],
   "source": [
    "%timeit vectorized_nn(Y)"
   ]
  }
 ],
 "metadata": {
  "kernelspec": {
   "display_name": "Python 3",
   "language": "python",
   "name": "python3"
  },
  "language_info": {
   "codemirror_mode": {
    "name": "ipython",
    "version": 3
   },
   "file_extension": ".py",
   "mimetype": "text/x-python",
   "name": "python",
   "nbconvert_exporter": "python",
   "pygments_lexer": "ipython3",
   "version": "3.8.8"
  }
 },
 "nbformat": 4,
 "nbformat_minor": 5
}
